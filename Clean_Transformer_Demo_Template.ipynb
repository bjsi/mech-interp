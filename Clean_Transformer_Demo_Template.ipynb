{
  "cells": [
    {
      "cell_type": "markdown",
      "metadata": {
        "id": "d0E5ZO6qo6Pd"
      },
      "source": [
        "# Introduction\n",
        "\n",
        "This is a template for a clean, first principles implementation of GPT-2 in PyTorch. This is an accompaniment to [my video tutorial on implementing GPT-2](https://neelnanda.io/transformer-tutorial-2). If you want to properly understand how to implement GPT-2, you'll need to do it yourself! **I recommend filling out this template *as* you watch the video, and seeing how far you can get with each section before watching me do it**. Each section comes with tests, so you can check that you got it right. You can see [a solution notebook here](https://www.neelnanda.io/transformer-solution) - use it if you get stuck, but make an attempt first, and no copying and pasting!\n",
        "\n",
        "There's a [template version of this notebook here](https://neelnanda.io/transformer-template), go and fill in the blanks (no copying and pasting!) and see if you can pass the tests. \n",
        "\n",
        "If you enjoyed this, I expect you'd enjoy learning more about what's actually going on inside these models and how to reverse engineer them! This is a fascinating young research field, with a lot of low-hanging fruit and open problems! **I recommend starting with my post [Concrete Steps for Getting Started in Mechanistic Interpretability](https://www.neelnanda.io/mechanistic-interpretability/getting-started).**\n",
        "\n",
        "This notebook was written to accompany my [TransformerLens library](https://github.com/neelnanda-io/TransformerLens) for doing mechanistic interpretability research on GPT-2 style language models, and is a clean implementation of the underlying transformer architecture in the library. (This notebook is based off of an earlier version called EasyTransformer)\n",
        "\n",
        "Further Resources:\n",
        "* [A Comprehensive Mechanistic Interpretability Explainer & Glossary](https://www.neelnanda.io/glossary) \n",
        "    * Expecially [the transformers section](https://dynalist.io/d/n2ZWtnoYHrU1s4vnFSAQ519J#z=pndoEIqJ6GPvC1yENQkEfZYR)\n",
        "* [200 Concrete Open Problems in Mechanistic Interpretability](https://www.neelnanda.io/concrete-open-problems)\n",
        "* My [TransformerLens library](https://github.com/neelnanda-io/TransformerLens) for doing mechanistic interpretability research on GPT-2 style language models.\n",
        "* My walkthrough of [A Mathematical Framework for Transformer Circuits](https://transformer-circuits.pub/2021/framework/index.html), for a deeper dive into how to think about transformers:.\n",
        "\n",
        "Check out these other intros to transformers for another perspective:\n",
        "* Jay Alammar's [illustrated transformer](https://jalammar.github.io/illustrated-transformer/)\n",
        "* [Andrej Karpathy's MinGPT](https://github.com/karpathy/minGPT)\n",
        "\n",
        "**Sharing Guidelines:** This tutorial is still a bit of a work in progress! I think it's usable, but please don't post it anywhere publicly without checking with me first! Sharing with friends is fine. \n",
        "\n",
        "If you've found this useful, I'd love to hear about it! Positive and negative feedback also very welcome. You can reach me via [email](mailto:neelnanda27@gmail.com)"
      ]
    },
    {
      "cell_type": "markdown",
      "metadata": {
        "id": "MCo_EDqEo6Pg"
      },
      "source": [
        "## Instructions\n",
        "* No need to read the Setup Section\n",
        "* Go to runtime > Change Runtime Type and set it to use a GPU\n",
        "* Read and run notebook up until the start of the section \"Actual Code!\". Then go to the template notebook and try coding up the model yourself!\n",
        "    * Bonus points for doing that without reading the solutions, and before I do it in the video!"
      ]
    },
    {
      "cell_type": "markdown",
      "metadata": {
        "id": "9ZIR02EVo6Pg"
      },
      "source": [
        "# Setup"
      ]
    },
    {
      "cell_type": "code",
      "execution_count": 47,
      "metadata": {
        "colab": {
          "base_uri": "https://localhost:8080/"
        },
        "id": "zNDbYw80o6Ph",
        "outputId": "7471513d-4aa6-4657-e740-3884136702ca"
      },
      "outputs": [
        {
          "output_type": "stream",
          "name": "stdout",
          "text": [
            "Running as a Colab notebook\n",
            "Looking in indexes: https://pypi.org/simple, https://us-python.pkg.dev/colab-wheels/public/simple/\n",
            "Collecting git+https://github.com/neelnanda-io/Easy-Transformer.git@clean-transformer-demo\n",
            "  Cloning https://github.com/neelnanda-io/Easy-Transformer.git (to revision clean-transformer-demo) to /tmp/pip-req-build-ozv6hkvm\n",
            "  Running command git clone --filter=blob:none --quiet https://github.com/neelnanda-io/Easy-Transformer.git /tmp/pip-req-build-ozv6hkvm\n",
            "  Running command git checkout -b clean-transformer-demo --track origin/clean-transformer-demo\n",
            "  Switched to a new branch 'clean-transformer-demo'\n",
            "  Branch 'clean-transformer-demo' set up to track remote branch 'clean-transformer-demo' from 'origin'.\n",
            "  Resolved https://github.com/neelnanda-io/Easy-Transformer.git to commit 1f25219e631aeb478d17075d47274db32c874e88\n",
            "  Preparing metadata (setup.py) ... \u001b[?25l\u001b[?25hdone\n",
            "Requirement already satisfied: einops in /usr/local/lib/python3.10/dist-packages (from easy-transformer==0.1.0) (0.6.1)\n",
            "Requirement already satisfied: numpy in /usr/local/lib/python3.10/dist-packages (from easy-transformer==0.1.0) (1.22.4)\n",
            "Requirement already satisfied: torch in /usr/local/lib/python3.10/dist-packages (from easy-transformer==0.1.0) (2.0.0+cu118)\n",
            "Requirement already satisfied: datasets in /usr/local/lib/python3.10/dist-packages (from easy-transformer==0.1.0) (2.12.0)\n",
            "Requirement already satisfied: transformers in /usr/local/lib/python3.10/dist-packages (from easy-transformer==0.1.0) (4.28.1)\n",
            "Requirement already satisfied: tqdm in /usr/local/lib/python3.10/dist-packages (from easy-transformer==0.1.0) (4.65.0)\n",
            "Requirement already satisfied: pandas in /usr/local/lib/python3.10/dist-packages (from easy-transformer==0.1.0) (1.5.3)\n",
            "Requirement already satisfied: wandb in /usr/local/lib/python3.10/dist-packages (from easy-transformer==0.1.0) (0.15.0)\n",
            "Requirement already satisfied: fancy_einsum in /usr/local/lib/python3.10/dist-packages (from easy-transformer==0.1.0) (0.0.3)\n",
            "Requirement already satisfied: xxhash in /usr/local/lib/python3.10/dist-packages (from datasets->easy-transformer==0.1.0) (3.2.0)\n",
            "Requirement already satisfied: fsspec[http]>=2021.11.1 in /usr/local/lib/python3.10/dist-packages (from datasets->easy-transformer==0.1.0) (2023.4.0)\n",
            "Requirement already satisfied: packaging in /usr/local/lib/python3.10/dist-packages (from datasets->easy-transformer==0.1.0) (23.1)\n",
            "Requirement already satisfied: responses<0.19 in /usr/local/lib/python3.10/dist-packages (from datasets->easy-transformer==0.1.0) (0.18.0)\n",
            "Requirement already satisfied: multiprocess in /usr/local/lib/python3.10/dist-packages (from datasets->easy-transformer==0.1.0) (0.70.14)\n",
            "Requirement already satisfied: pyarrow>=8.0.0 in /usr/local/lib/python3.10/dist-packages (from datasets->easy-transformer==0.1.0) (9.0.0)\n",
            "Requirement already satisfied: aiohttp in /usr/local/lib/python3.10/dist-packages (from datasets->easy-transformer==0.1.0) (3.8.4)\n",
            "Requirement already satisfied: pyyaml>=5.1 in /usr/local/lib/python3.10/dist-packages (from datasets->easy-transformer==0.1.0) (6.0)\n",
            "Requirement already satisfied: requests>=2.19.0 in /usr/local/lib/python3.10/dist-packages (from datasets->easy-transformer==0.1.0) (2.27.1)\n",
            "Requirement already satisfied: huggingface-hub<1.0.0,>=0.11.0 in /usr/local/lib/python3.10/dist-packages (from datasets->easy-transformer==0.1.0) (0.14.1)\n",
            "Requirement already satisfied: dill<0.3.7,>=0.3.0 in /usr/local/lib/python3.10/dist-packages (from datasets->easy-transformer==0.1.0) (0.3.6)\n",
            "Requirement already satisfied: pytz>=2020.1 in /usr/local/lib/python3.10/dist-packages (from pandas->easy-transformer==0.1.0) (2022.7.1)\n",
            "Requirement already satisfied: python-dateutil>=2.8.1 in /usr/local/lib/python3.10/dist-packages (from pandas->easy-transformer==0.1.0) (2.8.2)\n",
            "Requirement already satisfied: networkx in /usr/local/lib/python3.10/dist-packages (from torch->easy-transformer==0.1.0) (3.1)\n",
            "Requirement already satisfied: jinja2 in /usr/local/lib/python3.10/dist-packages (from torch->easy-transformer==0.1.0) (3.1.2)\n",
            "Requirement already satisfied: filelock in /usr/local/lib/python3.10/dist-packages (from torch->easy-transformer==0.1.0) (3.12.0)\n",
            "Requirement already satisfied: typing-extensions in /usr/local/lib/python3.10/dist-packages (from torch->easy-transformer==0.1.0) (4.5.0)\n",
            "Requirement already satisfied: sympy in /usr/local/lib/python3.10/dist-packages (from torch->easy-transformer==0.1.0) (1.11.1)\n",
            "Requirement already satisfied: triton==2.0.0 in /usr/local/lib/python3.10/dist-packages (from torch->easy-transformer==0.1.0) (2.0.0)\n",
            "Requirement already satisfied: cmake in /usr/local/lib/python3.10/dist-packages (from triton==2.0.0->torch->easy-transformer==0.1.0) (3.25.2)\n",
            "Requirement already satisfied: lit in /usr/local/lib/python3.10/dist-packages (from triton==2.0.0->torch->easy-transformer==0.1.0) (16.0.2)\n",
            "Requirement already satisfied: tokenizers!=0.11.3,<0.14,>=0.11.1 in /usr/local/lib/python3.10/dist-packages (from transformers->easy-transformer==0.1.0) (0.13.3)\n",
            "Requirement already satisfied: regex!=2019.12.17 in /usr/local/lib/python3.10/dist-packages (from transformers->easy-transformer==0.1.0) (2022.10.31)\n",
            "Requirement already satisfied: Click!=8.0.0,>=7.0 in /usr/local/lib/python3.10/dist-packages (from wandb->easy-transformer==0.1.0) (8.1.3)\n",
            "Requirement already satisfied: setproctitle in /usr/local/lib/python3.10/dist-packages (from wandb->easy-transformer==0.1.0) (1.3.2)\n",
            "Requirement already satisfied: appdirs>=1.4.3 in /usr/local/lib/python3.10/dist-packages (from wandb->easy-transformer==0.1.0) (1.4.4)\n",
            "Requirement already satisfied: GitPython!=3.1.29,>=1.0.0 in /usr/local/lib/python3.10/dist-packages (from wandb->easy-transformer==0.1.0) (3.1.31)\n",
            "Requirement already satisfied: setuptools in /usr/local/lib/python3.10/dist-packages (from wandb->easy-transformer==0.1.0) (67.7.2)\n",
            "Requirement already satisfied: docker-pycreds>=0.4.0 in /usr/local/lib/python3.10/dist-packages (from wandb->easy-transformer==0.1.0) (0.4.0)\n",
            "Requirement already satisfied: psutil>=5.0.0 in /usr/local/lib/python3.10/dist-packages (from wandb->easy-transformer==0.1.0) (5.9.5)\n",
            "Requirement already satisfied: pathtools in /usr/local/lib/python3.10/dist-packages (from wandb->easy-transformer==0.1.0) (0.1.2)\n",
            "Requirement already satisfied: sentry-sdk>=1.0.0 in /usr/local/lib/python3.10/dist-packages (from wandb->easy-transformer==0.1.0) (1.21.1)\n",
            "Requirement already satisfied: protobuf!=4.21.0,<5,>=3.19.0 in /usr/local/lib/python3.10/dist-packages (from wandb->easy-transformer==0.1.0) (3.20.3)\n",
            "Requirement already satisfied: six>=1.4.0 in /usr/local/lib/python3.10/dist-packages (from docker-pycreds>=0.4.0->wandb->easy-transformer==0.1.0) (1.16.0)\n",
            "Requirement already satisfied: charset-normalizer<4.0,>=2.0 in /usr/local/lib/python3.10/dist-packages (from aiohttp->datasets->easy-transformer==0.1.0) (2.0.12)\n",
            "Requirement already satisfied: frozenlist>=1.1.1 in /usr/local/lib/python3.10/dist-packages (from aiohttp->datasets->easy-transformer==0.1.0) (1.3.3)\n",
            "Requirement already satisfied: attrs>=17.3.0 in /usr/local/lib/python3.10/dist-packages (from aiohttp->datasets->easy-transformer==0.1.0) (23.1.0)\n",
            "Requirement already satisfied: async-timeout<5.0,>=4.0.0a3 in /usr/local/lib/python3.10/dist-packages (from aiohttp->datasets->easy-transformer==0.1.0) (4.0.2)\n",
            "Requirement already satisfied: aiosignal>=1.1.2 in /usr/local/lib/python3.10/dist-packages (from aiohttp->datasets->easy-transformer==0.1.0) (1.3.1)\n",
            "Requirement already satisfied: yarl<2.0,>=1.0 in /usr/local/lib/python3.10/dist-packages (from aiohttp->datasets->easy-transformer==0.1.0) (1.9.2)\n",
            "Requirement already satisfied: multidict<7.0,>=4.5 in /usr/local/lib/python3.10/dist-packages (from aiohttp->datasets->easy-transformer==0.1.0) (6.0.4)\n",
            "Requirement already satisfied: gitdb<5,>=4.0.1 in /usr/local/lib/python3.10/dist-packages (from GitPython!=3.1.29,>=1.0.0->wandb->easy-transformer==0.1.0) (4.0.10)\n",
            "Requirement already satisfied: urllib3<1.27,>=1.21.1 in /usr/local/lib/python3.10/dist-packages (from requests>=2.19.0->datasets->easy-transformer==0.1.0) (1.26.15)\n",
            "Requirement already satisfied: idna<4,>=2.5 in /usr/local/lib/python3.10/dist-packages (from requests>=2.19.0->datasets->easy-transformer==0.1.0) (3.4)\n",
            "Requirement already satisfied: certifi>=2017.4.17 in /usr/local/lib/python3.10/dist-packages (from requests>=2.19.0->datasets->easy-transformer==0.1.0) (2022.12.7)\n",
            "Requirement already satisfied: MarkupSafe>=2.0 in /usr/local/lib/python3.10/dist-packages (from jinja2->torch->easy-transformer==0.1.0) (2.1.2)\n",
            "Requirement already satisfied: mpmath>=0.19 in /usr/local/lib/python3.10/dist-packages (from sympy->torch->easy-transformer==0.1.0) (1.3.0)\n",
            "Requirement already satisfied: smmap<6,>=3.0.1 in /usr/local/lib/python3.10/dist-packages (from gitdb<5,>=4.0.1->GitPython!=3.1.29,>=1.0.0->wandb->easy-transformer==0.1.0) (5.0.0)\n",
            "\n",
            "## Installing the NodeSource Node.js 16.x repo...\n",
            "\n",
            "\n",
            "## Populating apt-get cache...\n",
            "\n",
            "+ apt-get update\n",
            "Get:1 https://cloud.r-project.org/bin/linux/ubuntu focal-cran40/ InRelease [3,622 B]\n",
            "Hit:2 http://archive.ubuntu.com/ubuntu focal InRelease\n",
            "Get:3 http://security.ubuntu.com/ubuntu focal-security InRelease [114 kB]\n",
            "Hit:4 https://developer.download.nvidia.com/compute/cuda/repos/ubuntu2004/x86_64  InRelease\n",
            "Hit:5 https://deb.nodesource.com/node_16.x focal InRelease\n",
            "Get:6 http://archive.ubuntu.com/ubuntu focal-updates InRelease [114 kB]\n",
            "Hit:7 http://ppa.launchpad.net/c2d4u.team/c2d4u4.0+/ubuntu focal InRelease\n",
            "Get:8 http://archive.ubuntu.com/ubuntu focal-backports InRelease [108 kB]\n",
            "Hit:9 http://ppa.launchpad.net/cran/libgit2/ubuntu focal InRelease\n",
            "Hit:10 http://ppa.launchpad.net/deadsnakes/ppa/ubuntu focal InRelease\n",
            "Hit:11 http://ppa.launchpad.net/graphics-drivers/ppa/ubuntu focal InRelease\n",
            "Hit:12 http://ppa.launchpad.net/ubuntugis/ppa/ubuntu focal InRelease\n",
            "Fetched 340 kB in 7s (47.5 kB/s)\n",
            "Reading package lists... Done\n",
            "\n",
            "## Confirming \"focal\" is supported...\n",
            "\n",
            "+ curl -sLf -o /dev/null 'https://deb.nodesource.com/node_16.x/dists/focal/Release'\n",
            "\n",
            "## Adding the NodeSource signing key to your keyring...\n",
            "\n",
            "+ curl -s https://deb.nodesource.com/gpgkey/nodesource.gpg.key | gpg --dearmor | tee /usr/share/keyrings/nodesource.gpg >/dev/null\n",
            "\n",
            "## Creating apt sources list file for the NodeSource Node.js 16.x repo...\n",
            "\n",
            "+ echo 'deb [signed-by=/usr/share/keyrings/nodesource.gpg] https://deb.nodesource.com/node_16.x focal main' > /etc/apt/sources.list.d/nodesource.list\n",
            "+ echo 'deb-src [signed-by=/usr/share/keyrings/nodesource.gpg] https://deb.nodesource.com/node_16.x focal main' >> /etc/apt/sources.list.d/nodesource.list\n",
            "\n",
            "## Running `apt-get update` for you...\n",
            "\n",
            "+ apt-get update\n",
            "Hit:1 https://deb.nodesource.com/node_16.x focal InRelease\n",
            "Get:2 http://security.ubuntu.com/ubuntu focal-security InRelease [114 kB]\n",
            "Hit:3 https://cloud.r-project.org/bin/linux/ubuntu focal-cran40/ InRelease\n",
            "Hit:4 https://developer.download.nvidia.com/compute/cuda/repos/ubuntu2004/x86_64  InRelease\n",
            "Hit:5 http://ppa.launchpad.net/c2d4u.team/c2d4u4.0+/ubuntu focal InRelease\n",
            "Hit:6 http://archive.ubuntu.com/ubuntu focal InRelease\n",
            "Hit:7 http://archive.ubuntu.com/ubuntu focal-updates InRelease\n",
            "Hit:8 http://ppa.launchpad.net/cran/libgit2/ubuntu focal InRelease\n",
            "Get:9 http://archive.ubuntu.com/ubuntu focal-backports InRelease [108 kB]\n",
            "Hit:10 http://ppa.launchpad.net/deadsnakes/ppa/ubuntu focal InRelease\n",
            "Hit:11 http://ppa.launchpad.net/graphics-drivers/ppa/ubuntu focal InRelease\n",
            "Hit:12 http://ppa.launchpad.net/ubuntugis/ppa/ubuntu focal InRelease\n",
            "Fetched 222 kB in 7s (31.5 kB/s)\n",
            "Reading package lists... Done\n",
            "\n",
            "## Run `\u001b[1msudo apt-get install -y nodejs\u001b[m` to install Node.js 16.x and npm\n",
            "## You may also need development tools to build native addons:\n",
            "     sudo apt-get install gcc g++ make\n",
            "## To install the Yarn package manager, run:\n",
            "     curl -sL https://dl.yarnpkg.com/debian/pubkey.gpg | gpg --dearmor | sudo tee /usr/share/keyrings/yarnkey.gpg >/dev/null\n",
            "     echo \"deb [signed-by=/usr/share/keyrings/yarnkey.gpg] https://dl.yarnpkg.com/debian stable main\" | sudo tee /etc/apt/sources.list.d/yarn.list\n",
            "     sudo apt-get update && sudo apt-get install yarn\n",
            "\n",
            "\n",
            "Reading package lists... Done\n",
            "Building dependency tree       \n",
            "Reading state information... Done\n",
            "nodejs is already the newest version (16.20.0-deb-1nodesource1).\n",
            "0 upgraded, 0 newly installed, 0 to remove and 24 not upgraded.\n",
            "Looking in indexes: https://pypi.org/simple, https://us-python.pkg.dev/colab-wheels/public/simple/\n",
            "Collecting git+https://github.com/neelnanda-io/PySvelte.git\n",
            "  Cloning https://github.com/neelnanda-io/PySvelte.git to /tmp/pip-req-build-on79oyki\n",
            "  Running command git clone --filter=blob:none --quiet https://github.com/neelnanda-io/PySvelte.git /tmp/pip-req-build-on79oyki\n",
            "  Resolved https://github.com/neelnanda-io/PySvelte.git to commit 8410eae58503df0a293857a61a1a11ca35f86525\n",
            "  Preparing metadata (setup.py) ... \u001b[?25l\u001b[?25hdone\n",
            "Requirement already satisfied: einops in /usr/local/lib/python3.10/dist-packages (from PySvelte==1.0.0) (0.6.1)\n",
            "Requirement already satisfied: numpy in /usr/local/lib/python3.10/dist-packages (from PySvelte==1.0.0) (1.22.4)\n",
            "Requirement already satisfied: torch in /usr/local/lib/python3.10/dist-packages (from PySvelte==1.0.0) (2.0.0+cu118)\n",
            "Requirement already satisfied: datasets in /usr/local/lib/python3.10/dist-packages (from PySvelte==1.0.0) (2.12.0)\n",
            "Requirement already satisfied: transformers in /usr/local/lib/python3.10/dist-packages (from PySvelte==1.0.0) (4.28.1)\n",
            "Requirement already satisfied: tqdm in /usr/local/lib/python3.10/dist-packages (from PySvelte==1.0.0) (4.65.0)\n",
            "Requirement already satisfied: pandas in /usr/local/lib/python3.10/dist-packages (from PySvelte==1.0.0) (1.5.3)\n",
            "Requirement already satisfied: typeguard~=2.0 in /usr/local/lib/python3.10/dist-packages (from PySvelte==1.0.0) (2.13.3)\n",
            "Requirement already satisfied: responses<0.19 in /usr/local/lib/python3.10/dist-packages (from datasets->PySvelte==1.0.0) (0.18.0)\n",
            "Requirement already satisfied: pyyaml>=5.1 in /usr/local/lib/python3.10/dist-packages (from datasets->PySvelte==1.0.0) (6.0)\n",
            "Requirement already satisfied: aiohttp in /usr/local/lib/python3.10/dist-packages (from datasets->PySvelte==1.0.0) (3.8.4)\n",
            "Requirement already satisfied: dill<0.3.7,>=0.3.0 in /usr/local/lib/python3.10/dist-packages (from datasets->PySvelte==1.0.0) (0.3.6)\n",
            "Requirement already satisfied: packaging in /usr/local/lib/python3.10/dist-packages (from datasets->PySvelte==1.0.0) (23.1)\n",
            "Requirement already satisfied: pyarrow>=8.0.0 in /usr/local/lib/python3.10/dist-packages (from datasets->PySvelte==1.0.0) (9.0.0)\n",
            "Requirement already satisfied: multiprocess in /usr/local/lib/python3.10/dist-packages (from datasets->PySvelte==1.0.0) (0.70.14)\n",
            "Requirement already satisfied: fsspec[http]>=2021.11.1 in /usr/local/lib/python3.10/dist-packages (from datasets->PySvelte==1.0.0) (2023.4.0)\n",
            "Requirement already satisfied: huggingface-hub<1.0.0,>=0.11.0 in /usr/local/lib/python3.10/dist-packages (from datasets->PySvelte==1.0.0) (0.14.1)\n",
            "Requirement already satisfied: requests>=2.19.0 in /usr/local/lib/python3.10/dist-packages (from datasets->PySvelte==1.0.0) (2.27.1)\n",
            "Requirement already satisfied: xxhash in /usr/local/lib/python3.10/dist-packages (from datasets->PySvelte==1.0.0) (3.2.0)\n",
            "Requirement already satisfied: pytz>=2020.1 in /usr/local/lib/python3.10/dist-packages (from pandas->PySvelte==1.0.0) (2022.7.1)\n",
            "Requirement already satisfied: python-dateutil>=2.8.1 in /usr/local/lib/python3.10/dist-packages (from pandas->PySvelte==1.0.0) (2.8.2)\n",
            "Requirement already satisfied: jinja2 in /usr/local/lib/python3.10/dist-packages (from torch->PySvelte==1.0.0) (3.1.2)\n",
            "Requirement already satisfied: triton==2.0.0 in /usr/local/lib/python3.10/dist-packages (from torch->PySvelte==1.0.0) (2.0.0)\n",
            "Requirement already satisfied: filelock in /usr/local/lib/python3.10/dist-packages (from torch->PySvelte==1.0.0) (3.12.0)\n",
            "Requirement already satisfied: sympy in /usr/local/lib/python3.10/dist-packages (from torch->PySvelte==1.0.0) (1.11.1)\n",
            "Requirement already satisfied: networkx in /usr/local/lib/python3.10/dist-packages (from torch->PySvelte==1.0.0) (3.1)\n",
            "Requirement already satisfied: typing-extensions in /usr/local/lib/python3.10/dist-packages (from torch->PySvelte==1.0.0) (4.5.0)\n",
            "Requirement already satisfied: lit in /usr/local/lib/python3.10/dist-packages (from triton==2.0.0->torch->PySvelte==1.0.0) (16.0.2)\n",
            "Requirement already satisfied: cmake in /usr/local/lib/python3.10/dist-packages (from triton==2.0.0->torch->PySvelte==1.0.0) (3.25.2)\n",
            "Requirement already satisfied: regex!=2019.12.17 in /usr/local/lib/python3.10/dist-packages (from transformers->PySvelte==1.0.0) (2022.10.31)\n",
            "Requirement already satisfied: tokenizers!=0.11.3,<0.14,>=0.11.1 in /usr/local/lib/python3.10/dist-packages (from transformers->PySvelte==1.0.0) (0.13.3)\n",
            "Requirement already satisfied: async-timeout<5.0,>=4.0.0a3 in /usr/local/lib/python3.10/dist-packages (from aiohttp->datasets->PySvelte==1.0.0) (4.0.2)\n",
            "Requirement already satisfied: multidict<7.0,>=4.5 in /usr/local/lib/python3.10/dist-packages (from aiohttp->datasets->PySvelte==1.0.0) (6.0.4)\n",
            "Requirement already satisfied: charset-normalizer<4.0,>=2.0 in /usr/local/lib/python3.10/dist-packages (from aiohttp->datasets->PySvelte==1.0.0) (2.0.12)\n",
            "Requirement already satisfied: frozenlist>=1.1.1 in /usr/local/lib/python3.10/dist-packages (from aiohttp->datasets->PySvelte==1.0.0) (1.3.3)\n",
            "Requirement already satisfied: yarl<2.0,>=1.0 in /usr/local/lib/python3.10/dist-packages (from aiohttp->datasets->PySvelte==1.0.0) (1.9.2)\n",
            "Requirement already satisfied: aiosignal>=1.1.2 in /usr/local/lib/python3.10/dist-packages (from aiohttp->datasets->PySvelte==1.0.0) (1.3.1)\n",
            "Requirement already satisfied: attrs>=17.3.0 in /usr/local/lib/python3.10/dist-packages (from aiohttp->datasets->PySvelte==1.0.0) (23.1.0)\n",
            "Requirement already satisfied: six>=1.5 in /usr/local/lib/python3.10/dist-packages (from python-dateutil>=2.8.1->pandas->PySvelte==1.0.0) (1.16.0)\n",
            "Requirement already satisfied: urllib3<1.27,>=1.21.1 in /usr/local/lib/python3.10/dist-packages (from requests>=2.19.0->datasets->PySvelte==1.0.0) (1.26.15)\n",
            "Requirement already satisfied: idna<4,>=2.5 in /usr/local/lib/python3.10/dist-packages (from requests>=2.19.0->datasets->PySvelte==1.0.0) (3.4)\n",
            "Requirement already satisfied: certifi>=2017.4.17 in /usr/local/lib/python3.10/dist-packages (from requests>=2.19.0->datasets->PySvelte==1.0.0) (2022.12.7)\n",
            "Requirement already satisfied: MarkupSafe>=2.0 in /usr/local/lib/python3.10/dist-packages (from jinja2->torch->PySvelte==1.0.0) (2.1.2)\n",
            "Requirement already satisfied: mpmath>=0.19 in /usr/local/lib/python3.10/dist-packages (from sympy->torch->PySvelte==1.0.0) (1.3.0)\n",
            "Looking in indexes: https://pypi.org/simple, https://us-python.pkg.dev/colab-wheels/public/simple/\n",
            "Requirement already satisfied: fancy_einsum in /usr/local/lib/python3.10/dist-packages (0.0.3)\n",
            "Looking in indexes: https://pypi.org/simple, https://us-python.pkg.dev/colab-wheels/public/simple/\n",
            "Requirement already satisfied: einops in /usr/local/lib/python3.10/dist-packages (0.6.1)\n"
          ]
        }
      ],
      "source": [
        "try:\n",
        "  import google.colab\n",
        "  IN_COLAB = True\n",
        "  print(\"Running as a Colab notebook\")\n",
        "  %pip install git+https://github.com/neelnanda-io/Easy-Transformer.git@clean-transformer-demo\n",
        "  # Install another version of node that makes PySvelte work way faster\n",
        "  !curl -fsSL https://deb.nodesource.com/setup_16.x | sudo -E bash -; sudo apt-get install -y nodejs\n",
        "  %pip install git+https://github.com/neelnanda-io/PySvelte.git\n",
        "  %pip install fancy_einsum\n",
        "  %pip install einops\n",
        "except:\n",
        "  IN_COLAB = False\n",
        "  print(\"Running as a Jupyter notebook - intended for development only!\")"
      ]
    },
    {
      "cell_type": "code",
      "execution_count": 48,
      "metadata": {
        "id": "4_KNubVwo6Pi"
      },
      "outputs": [],
      "source": [
        "import einops\n",
        "from fancy_einsum import einsum\n",
        "from dataclasses import dataclass\n",
        "from easy_transformer import EasyTransformer\n",
        "import torch\n",
        "import torch.nn as nn\n",
        "import numpy as np\n",
        "import math\n",
        "from easy_transformer.utils import get_corner, gelu_new, tokenize_and_concatenate\n",
        "import tqdm.auto as tqdm\n",
        "import matplotlib.pyplot as plt\n"
      ]
    },
    {
      "cell_type": "code",
      "execution_count": 49,
      "metadata": {
        "colab": {
          "base_uri": "https://localhost:8080/"
        },
        "id": "1488ryxuo6Pi",
        "outputId": "0c6974dd-8622-4fae-ba68-2e9452d748b5"
      },
      "outputs": [
        {
          "output_type": "stream",
          "name": "stdout",
          "text": [
            "Moving model to device:  cpu\n",
            "Finished loading pretrained model gpt2-small into EasyTransformer!\n"
          ]
        }
      ],
      "source": [
        "reference_gpt2 = EasyTransformer.from_pretrained(\"gpt2-small\", fold_ln=False, center_unembed=False, center_writing_weights=False)"
      ]
    },
    {
      "cell_type": "markdown",
      "metadata": {
        "id": "xCa9v2Foo6Pi"
      },
      "source": [
        "# Understanding Inputs & Outputs of a Transformer"
      ]
    },
    {
      "cell_type": "markdown",
      "metadata": {
        "id": "TYJe8VtXo6Pj"
      },
      "source": [
        "## What is the point of a transformer?"
      ]
    },
    {
      "cell_type": "markdown",
      "metadata": {
        "id": "J1MZ_Z5xo6Pj"
      },
      "source": [
        "**Transformers exist to model text!**\n",
        "\n",
        "We're going to focus GPT-2 style transformers. Key feature: They generate text! You feed in language, and the model generates a probability distn over tokens. And you can repeatedly sample from this to generate text!\n",
        "\n",
        "### How is the model trained?\n",
        "\n",
        "You give it a bunch of text, and train it to predict the next token.\n",
        "\n",
        "Importantly, if you give a model 100 tokens in a sequence, it predicts the next token for *each* prefix, ie it produces 100 predictions. This is kinda weird but it's much easier to make one that does this. And it also makes training more efficient, because you can 100 bits of feedback rather than just one.\n",
        "\n",
        "#### Objection: Isn't this trivial for the first 99?\n",
        "\n",
        "No! We make the transformer have *causal attention*. The core thing is that it can only move information forwards in the sequence. The prediction of what comes after token 50 is only a function of the first 50 tokens, *not* of token 51. (Jargon: *autoregressive*)\n",
        "\n",
        "### Key takeaway:\n",
        "\n",
        "Transformers are *sequence modelling engines*. It does the same processing in parallel at each sequence position, can move information between positions with attention, and conceptually can take a sequence of arbitrary length (not actually true, see later)"
      ]
    },
    {
      "cell_type": "markdown",
      "metadata": {
        "id": "iQ0NHcdoo6Pj"
      },
      "source": [
        "## Tokens - Transformer Inputs"
      ]
    },
    {
      "cell_type": "markdown",
      "metadata": {
        "id": "dj6oyWDxo6Pj"
      },
      "source": [
        "Core point: Input is language (ie a sequence of characters, strings, etc)\n",
        "\n",
        "### How do we convert language to vectors?\n",
        "\n",
        "ML models take in vectors, not weird shit like language - how do we convert?\n",
        "\n",
        "#### Idea: integers to vectors\n",
        "\n",
        "We basically make a lookup table. Called an embedding. \n",
        "\n",
        "Jargon: **One-hot encoding** We map eg numbers from 1 to 100, to a 100-dim vector, with a 1 in the kth position, 0 everywhere else. Key intuition is that one-hot encodings let you think about each integer independently - useful when integers = labels. \n",
        "\n",
        "Dimensions = things that vary independently. Each input has its own dimension, so each input can be thought of independently, we don't bake in any relation.\n",
        "\n",
        "Lookup tables <=> Multiply a fixed matrix by the one-hot encoded vector. \n"
      ]
    },
    {
      "cell_type": "markdown",
      "metadata": {
        "id": "eOR5-d5Po6Pj"
      },
      "source": [
        "### Tokens: Language to sequence of integers\n",
        "\n",
        "Core idea: We need a model that can deal with arbitrary text. We want to convert this into integers, *and* we want these integers to be in a bounded range. \n",
        "\n",
        "**Idea:** Form a vocabulary!\n",
        "\n",
        "**Idea 1:** Get a dictionary! \n",
        "\n",
        "**Problem:** It can't cope with arbitrary text (eg URLs, punctuation, etc) Can't cope with mispellings.\n",
        "\n",
        "**Idea 2:** Vocab = 256 ASCII characters. Fixed vocab size, can do arbitrary text, etc.\n",
        "\n",
        "**Problem:** Loses structure of language - some sequences of characters are more meaningful than others.\n",
        "\n",
        "Eg \"language\" is a lot more meaningful than \"hjksdfiu\" - we want the first to be a single token, second to not be. It's a more efficient use of our vocab.\n",
        "\n",
        "#### What Actually Happens?\n",
        "\n",
        "This super cursed thing called Byte-Pair Encodings\n",
        "\n",
        "Ġ ~ means begins with a space, tokens with a leading space vs not are different.\n",
        "\n",
        "We begin with the 256 ASCII characters as our tokens, and then find the most common pair of tokens, and merge that into a new token. Eg \" t\" is the most common pair, so it's our next token! Repeat 50000 times..."
      ]
    },
    {
      "cell_type": "code",
      "execution_count": 50,
      "metadata": {
        "colab": {
          "base_uri": "https://localhost:8080/"
        },
        "id": "fB1cboOio6Pk",
        "outputId": "39b61f7f-e94a-4980-8ace-060c25a56d4b"
      },
      "outputs": [
        {
          "output_type": "stream",
          "name": "stdout",
          "text": [
            "[('!', 0), ('\"', 1), ('#', 2), ('$', 3), ('%', 4), ('&', 5), (\"'\", 6), ('(', 7), (')', 8), ('*', 9), ('+', 10), (',', 11), ('-', 12), ('.', 13), ('/', 14), ('0', 15), ('1', 16), ('2', 17), ('3', 18), ('4', 19)]\n",
            "\n",
            "[('ľ', 250), ('Ŀ', 251), ('ŀ', 252), ('Ł', 253), ('ł', 254), ('Ń', 255), ('Ġt', 256), ('Ġa', 257), ('he', 258), ('in', 259), ('re', 260), ('on', 261), ('Ġthe', 262), ('er', 263), ('Ġs', 264), ('at', 265), ('Ġw', 266), ('Ġo', 267), ('en', 268), ('Ġc', 269)]\n",
            "\n",
            "[('Ġprodu', 990), ('Ġstill', 991), ('led', 992), ('ah', 993), ('Ġhere', 994), ('Ġworld', 995), ('Ġthough', 996), ('Ġnum', 997), ('arch', 998), ('imes', 999), ('ale', 1000), ('ĠSe', 1001), ('ĠIf', 1002), ('//', 1003), ('ĠLe', 1004), ('Ġret', 1005), ('Ġref', 1006), ('Ġtrans', 1007), ('ner', 1008), ('ution', 1009)]\n",
            "\n"
          ]
        }
      ],
      "source": [
        "sorted_vocab = sorted(list(reference_gpt2.tokenizer.vocab.items()), key=lambda n:n[1])\n",
        "print(sorted_vocab[:20])\n",
        "print()\n",
        "print(sorted_vocab[250:270])\n",
        "print()\n",
        "print(sorted_vocab[990:1010])\n",
        "print()"
      ]
    },
    {
      "cell_type": "markdown",
      "metadata": {
        "id": "d7g0Lr6Co6Pk"
      },
      "source": [
        "Gets to weird esoteric shit."
      ]
    },
    {
      "cell_type": "code",
      "execution_count": 51,
      "metadata": {
        "colab": {
          "base_uri": "https://localhost:8080/"
        },
        "id": "BULLsagmo6Pk",
        "outputId": "be227ced-570e-4862-86a6-cd5dcd113e3f"
      },
      "outputs": [
        {
          "output_type": "execute_result",
          "data": {
            "text/plain": [
              "[('Revolution', 50237),\n",
              " ('Ġsnipers', 50238),\n",
              " ('Ġreverted', 50239),\n",
              " ('Ġconglomerate', 50240),\n",
              " ('Terry', 50241),\n",
              " ('794', 50242),\n",
              " ('Ġharsher', 50243),\n",
              " ('Ġdesolate', 50244),\n",
              " ('ĠHitman', 50245),\n",
              " ('Commission', 50246),\n",
              " ('Ġ(/', 50247),\n",
              " ('âĢ¦.\"', 50248),\n",
              " ('Compar', 50249),\n",
              " ('Ġamplification', 50250),\n",
              " ('ominated', 50251),\n",
              " ('Ġregress', 50252),\n",
              " ('ĠCollider', 50253),\n",
              " ('Ġinformants', 50254),\n",
              " ('Ġgazed', 50255),\n",
              " ('<|endoftext|>', 50256)]"
            ]
          },
          "metadata": {},
          "execution_count": 51
        }
      ],
      "source": [
        "sorted_vocab[-20:]"
      ]
    },
    {
      "cell_type": "markdown",
      "metadata": {
        "id": "gyxd7eAjo6Pk"
      },
      "source": [
        "Use the `to_tokens` method to convert text to numbers\n",
        "\n",
        "Prepends with a special token to give attention a resting position, disable with `prepend_bos=False`"
      ]
    },
    {
      "cell_type": "code",
      "execution_count": 52,
      "metadata": {
        "colab": {
          "base_uri": "https://localhost:8080/"
        },
        "id": "6GLzoBGSo6Pk",
        "outputId": "19f78d2f-886c-4dd0-e118-8ffe5bc40022"
      },
      "outputs": [
        {
          "output_type": "stream",
          "name": "stdout",
          "text": [
            "tensor([[50256, 15354,   257,  1573,  6140,   351,   257,  3139,   393,  2272,\n",
            "          6067,     0]])\n",
            "tensor([[15354,   257,  1573,  6140,   351,   257,  3139,   393,  2272,  6067,\n",
            "             0]])\n"
          ]
        }
      ],
      "source": [
        "print(reference_gpt2.to_tokens(\"Whether a word begins with a capital or space matters!\"))\n",
        "print(reference_gpt2.to_tokens(\"Whether a word begins with a capital or space matters!\", prepend_bos=False))"
      ]
    },
    {
      "cell_type": "markdown",
      "metadata": {
        "id": "z_Z_wjABo6Pk"
      },
      "source": [
        "### Rant: Tokenization is a Headache\n",
        "\n",
        "Whether a word begins with a capital or space matters!"
      ]
    },
    {
      "cell_type": "code",
      "execution_count": 53,
      "metadata": {
        "colab": {
          "base_uri": "https://localhost:8080/"
        },
        "id": "X02dsRaUo6Pl",
        "outputId": "8aff32f9-bb21-4744-940d-d1e528074be5"
      },
      "outputs": [
        {
          "output_type": "stream",
          "name": "stdout",
          "text": [
            "['<|endoftext|>', 'R', 'alph']\n",
            "['<|endoftext|>', ' Ralph']\n",
            "['<|endoftext|>', ' r', 'alph']\n",
            "['<|endoftext|>', 'ral', 'ph']\n"
          ]
        }
      ],
      "source": [
        "print(reference_gpt2.to_str_tokens(\"Ralph\"))\n",
        "print(reference_gpt2.to_str_tokens(\" Ralph\"))\n",
        "print(reference_gpt2.to_str_tokens(\" ralph\"))\n",
        "print(reference_gpt2.to_str_tokens(\"ralph\"))"
      ]
    },
    {
      "cell_type": "markdown",
      "metadata": {
        "id": "xwlfP8a7o6Pl"
      },
      "source": [
        "Arithmetic is a total mess: Length is inconsistent, common numbers bundle together"
      ]
    },
    {
      "cell_type": "code",
      "execution_count": 54,
      "metadata": {
        "colab": {
          "base_uri": "https://localhost:8080/"
        },
        "id": "3OIfuuuHo6Pl",
        "outputId": "83bdf467-3891-4e40-a08a-b4f3bb14886b"
      },
      "outputs": [
        {
          "output_type": "execute_result",
          "data": {
            "text/plain": [
              "['<|endoftext|>',\n",
              " '568',\n",
              " '73',\n",
              " '+',\n",
              " '318',\n",
              " '46',\n",
              " '23',\n",
              " '=',\n",
              " '123',\n",
              " '45',\n",
              " '67',\n",
              " '89',\n",
              " '-',\n",
              " '1',\n",
              " '000000',\n",
              " '000']"
            ]
          },
          "metadata": {},
          "execution_count": 54
        }
      ],
      "source": [
        "reference_gpt2.to_str_tokens(\"56873+3184623=123456789-1000000000\")"
      ]
    },
    {
      "cell_type": "markdown",
      "metadata": {
        "id": "0wETpsARo6Pl"
      },
      "source": [
        "### Key Takeaway:\n",
        "\n",
        "* We learn a dictionary of vocab of tokens (sub-words).\n",
        "\n",
        "* We (approx) losslessly convert language to integers via tokenizing it.\n",
        "\n",
        "* We convert integers to vectors via a lookup table.\n",
        "\n",
        "* Note: input to the transformer is a sequence of *tokens* (ie integers), not vectors"
      ]
    },
    {
      "cell_type": "markdown",
      "metadata": {
        "id": "zfbzy_hwo6Pl"
      },
      "source": [
        "## Logits - Transformer Outputs"
      ]
    },
    {
      "cell_type": "markdown",
      "metadata": {
        "id": "CIex36Uko6Pl"
      },
      "source": [
        "**Goal:** Probability distribution over next tokens. (for every *prefix* of the sequence - given n tokens, we make n next token predictions)\n",
        "\n",
        "**Problem:** How to convert a vector to a probability distribution? \n",
        "\n",
        "**Answer:** Use a softmax ($x_i \\to \\frac{e^{x_i}}{\\sum e^{x_j}}$), exponential makes everything positive, normalization makes it add to one.\n",
        "\n",
        "So the model outputs a tensor of logits, one vector of size $d_{vocab}$ for each input token.\n",
        "\n",
        "We can use this to generate things!"
      ]
    },
    {
      "cell_type": "markdown",
      "metadata": {
        "id": "GU-8epV8o6Pl"
      },
      "source": [
        "## Generation!"
      ]
    },
    {
      "cell_type": "markdown",
      "metadata": {
        "id": "bkWQnppuo6Pl"
      },
      "source": [
        "**Step 1:** Convert text to tokens\n",
        "\n",
        "Shape = batch x position"
      ]
    },
    {
      "cell_type": "code",
      "execution_count": 55,
      "metadata": {
        "colab": {
          "base_uri": "https://localhost:8080/"
        },
        "id": "Sa66fGyEo6Pl",
        "outputId": "4c33d68f-d2ba-44d7-ee2e-03b789c713be"
      },
      "outputs": [
        {
          "output_type": "stream",
          "name": "stdout",
          "text": [
            "tensor([[50256,    40,   716,   281,  4998,  1960,   382, 19741,    11,   875,\n",
            "         12342,    12,  8807,    11,   402, 11571,    12,    17,  3918, 47385,\n",
            "            13,  1881,  1110,   314,   481,  7074,  1692,  1241,  4430,   290,\n",
            "          1011,   625,   262,   995,     0]])\n",
            "torch.Size([1, 35])\n",
            "['<|endoftext|>', 'I', ' am', ' an', ' amazing', ' aut', 'ore', 'gressive', ',', ' dec', 'oder', '-', 'only', ',', ' G', 'PT', '-', '2', ' style', ' transformer', '.', ' One', ' day', ' I', ' will', ' exceed', ' human', ' level', ' intelligence', ' and', ' take', ' over', ' the', ' world', '!']\n"
          ]
        }
      ],
      "source": [
        "reference_text = \"I am an amazing autoregressive, decoder-only, GPT-2 style transformer. One day I will exceed human level intelligence and take over the world!\"\n",
        "tokens = reference_gpt2.to_tokens(reference_text)\n",
        "print(tokens)\n",
        "print(tokens.shape)\n",
        "print(reference_gpt2.to_str_tokens(tokens))"
      ]
    },
    {
      "cell_type": "markdown",
      "metadata": {
        "id": "S_Pbebkvo6Pl"
      },
      "source": [
        "**Step 2:** Map tokens to logits\n",
        "\n",
        "(run_with_cache means cache all intermediate activations, not important right now)\n",
        "\n",
        "shape = batch x position x d_vocab"
      ]
    },
    {
      "cell_type": "code",
      "execution_count": 56,
      "metadata": {
        "colab": {
          "base_uri": "https://localhost:8080/"
        },
        "id": "PUW4dqTBo6Pm",
        "outputId": "d0a0c1c1-a08a-4f54-be0f-920383839b29"
      },
      "outputs": [
        {
          "output_type": "stream",
          "name": "stdout",
          "text": [
            "torch.Size([1, 35, 50257])\n"
          ]
        }
      ],
      "source": [
        "\n",
        "logits, cache = reference_gpt2.run_with_cache(tokens)\n",
        "print(logits.shape)"
      ]
    },
    {
      "cell_type": "markdown",
      "metadata": {
        "id": "bI-Xv6ueo6Pn"
      },
      "source": [
        "**Step 3:** Convert the logits to a distribution with a softmax"
      ]
    },
    {
      "cell_type": "code",
      "execution_count": 57,
      "metadata": {
        "colab": {
          "base_uri": "https://localhost:8080/"
        },
        "id": "11mSY4NJo6Pn",
        "outputId": "415ade88-c953-46e7-e234-d1f4ce853e09"
      },
      "outputs": [
        {
          "output_type": "stream",
          "name": "stdout",
          "text": [
            "torch.Size([1, 35, 50257])\n",
            "torch.Size([1, 35, 50257])\n"
          ]
        }
      ],
      "source": [
        "log_probs = logits.log_softmax(dim=-1)\n",
        "probs = logits.log_softmax(dim=-1)\n",
        "print(log_probs.shape)\n",
        "print(probs.shape)"
      ]
    },
    {
      "cell_type": "markdown",
      "metadata": {
        "id": "AMNk214Do6Pn"
      },
      "source": [
        "**Bonus step:** What is the most likely next token at each position?"
      ]
    },
    {
      "cell_type": "code",
      "execution_count": 58,
      "metadata": {
        "colab": {
          "base_uri": "https://localhost:8080/"
        },
        "id": "Dwr-w3sio6Pn",
        "outputId": "109bab5a-d1cf-49f3-d002-78c2c372ce02"
      },
      "outputs": [
        {
          "output_type": "execute_result",
          "data": {
            "text/plain": [
              "[('<|endoftext|>', '\\n'),\n",
              " ('I', \"'m\"),\n",
              " (' am', ' a'),\n",
              " (' an', ' avid'),\n",
              " (' amazing', ' person'),\n",
              " (' aut', 'od'),\n",
              " ('ore', 'sp'),\n",
              " ('gressive', '.'),\n",
              " (',', ' and'),\n",
              " (' dec', 'ently'),\n",
              " ('oder', ','),\n",
              " ('-', 'driven'),\n",
              " ('only', ' programmer'),\n",
              " (',', ' and'),\n",
              " (' G', 'IM'),\n",
              " ('PT', '-'),\n",
              " ('-', 'only'),\n",
              " ('2', '.'),\n",
              " (' style', ','),\n",
              " (' transformer', '.'),\n",
              " ('.', ' I'),\n",
              " (' One', ' of'),\n",
              " (' day', ' I'),\n",
              " (' I', ' will'),\n",
              " (' will', ' be'),\n",
              " (' exceed', ' my'),\n",
              " (' human', 'ly'),\n",
              " (' level', ' of'),\n",
              " (' intelligence', ' and'),\n",
              " (' and', ' I'),\n",
              " (' take', ' over'),\n",
              " (' over', ' the'),\n",
              " (' the', ' world'),\n",
              " (' world', '.'),\n",
              " ('!', ' I')]"
            ]
          },
          "metadata": {},
          "execution_count": 58
        }
      ],
      "source": [
        "list(zip(reference_gpt2.to_str_tokens(reference_text), reference_gpt2.tokenizer.batch_decode(logits.argmax(dim=-1)[0])))"
      ]
    },
    {
      "cell_type": "markdown",
      "metadata": {
        "id": "Ka4x8hzBo6Pn"
      },
      "source": [
        "**Step 4:** Map distribution to a token"
      ]
    },
    {
      "cell_type": "code",
      "execution_count": 59,
      "metadata": {
        "colab": {
          "base_uri": "https://localhost:8080/"
        },
        "id": "zrwsOL6xo6Pn",
        "outputId": "2810799c-9c97-4e43-fe38-9af2a63f5fad"
      },
      "outputs": [
        {
          "output_type": "stream",
          "name": "stdout",
          "text": [
            "tensor(314)\n"
          ]
        }
      ],
      "source": [
        "next_token = logits[0, -1].argmax(dim=-1)\n",
        "print(next_token)"
      ]
    },
    {
      "cell_type": "markdown",
      "metadata": {
        "id": "cmB9kIlCo6Pn"
      },
      "source": [
        "**Step 5:** Add this to the end of the input, re-run\n",
        "\n",
        "(More efficient ways to do this, but whatever, doesn't matter conceptually)"
      ]
    },
    {
      "cell_type": "code",
      "execution_count": 60,
      "metadata": {
        "colab": {
          "base_uri": "https://localhost:8080/"
        },
        "id": "K1ZMlm2Jo6Pn",
        "outputId": "fd21ab3b-2ae6-4e5a-829c-d17042bc1d23"
      },
      "outputs": [
        {
          "output_type": "stream",
          "name": "stderr",
          "text": [
            "<ipython-input-60-d70d43dbf563>:1: UserWarning: To copy construct from a tensor, it is recommended to use sourceTensor.clone().detach() or sourceTensor.clone().detach().requires_grad_(True), rather than torch.tensor(sourceTensor).\n",
            "  next_tokens = torch.cat([tokens, torch.tensor(next_token, dtype=torch.int64)[None, None]], dim=-1)\n"
          ]
        },
        {
          "output_type": "stream",
          "name": "stdout",
          "text": [
            "New Input: tensor([[50256,    40,   716,   281,  4998,  1960,   382, 19741,    11,   875,\n",
            "         12342,    12,  8807,    11,   402, 11571,    12,    17,  3918, 47385,\n",
            "            13,  1881,  1110,   314,   481,  7074,  1692,  1241,  4430,   290,\n",
            "          1011,   625,   262,   995,     0,   314]])\n",
            "torch.Size([1, 36])\n",
            "New Input: <|endoftext|>I am an amazing autoregressive, decoder-only, GPT-2 style transformer. One day I will exceed human level intelligence and take over the world! I\n",
            "torch.Size([1, 36, 50257])\n",
            "tensor(716)\n",
            " am\n"
          ]
        }
      ],
      "source": [
        "next_tokens = torch.cat([tokens, torch.tensor(next_token, dtype=torch.int64)[None, None]], dim=-1)\n",
        "new_logits = reference_gpt2(next_tokens)\n",
        "print(\"New Input:\", next_tokens)\n",
        "print(next_tokens.shape)\n",
        "print(\"New Input:\", reference_gpt2.tokenizer.decode(next_tokens[0]))\n",
        "\n",
        "print(new_logits.shape)\n",
        "print(new_logits[-1, -1].argmax(-1))\n",
        "\n",
        "print(reference_gpt2.tokenizer.decode(new_logits[-1, -1].argmax(-1)))\n"
      ]
    },
    {
      "cell_type": "markdown",
      "metadata": {
        "id": "sfWwb85Jo6Pn"
      },
      "source": [
        "## Key takeaways:\n",
        "\n",
        "* Takes in language, predicts next token (for *each* token in a causal way)\n",
        "* We convert language to a sequence of integers with a tokenizer.\n",
        "* We convert integers to vectors with a lookup table.\n",
        "\n",
        "* Output is a vector of logits (one for each input token), we convert to a probability distn with a softmax, and can then convert this to a token (eg taking the largest logit, or sampling).\n",
        "\n",
        "* We append this to the input + run again to generate more text (Jargon: *autoregressive*)\n",
        "\n",
        "* Meta level point: Transformers are sequence operation models, they take in a sequence, do processing in parallel at each position, and use attention to move information between positions!"
      ]
    },
    {
      "cell_type": "markdown",
      "metadata": {
        "id": "ZZnfe3olo6Pn"
      },
      "source": [
        "# Clean Transformer Implementation"
      ]
    },
    {
      "cell_type": "markdown",
      "metadata": {
        "id": "HOUkjj-9o6Po"
      },
      "source": [
        "![](https://github.com/neelnanda-io/Easy-Transformer/blob/clean-transformer-demo/transformer_overview.png?raw=1)"
      ]
    },
    {
      "cell_type": "markdown",
      "metadata": {
        "id": "StorgrOto6Po"
      },
      "source": [
        "High-Level architecture:\n",
        "\n",
        "Go watch my [Transformer Circuits walkthrough](https://www.youtube.com/watch?v=KV5gbOmHbjU) if you want more intuitions!\n",
        "\n",
        "(Diagram is bottom to top)\n",
        "\n",
        "* Input tokens, integers\n",
        "* Embedding is a lookup table mapping tokens to vectors\n",
        "    * Lives in the *residual stream*\n",
        "* Residual stream - the sum of all previous outputs of layers of the model, is the input to each new layer.\n",
        "    * *Really* fundamental. It's the central object of the transformer.\n",
        "        * It's how model remembers things, moves information between layers for composition, and it's the medium used to store the information that attention moves between positions.\n",
        "* Then we have a series of $n_{layers}$ transformer blocks\n",
        "    * Confusing jargon - a block contains an attention layer *and* an MLP layer, but we say a transformer has k layers if it has k blocks (ie 2k total layers).\n",
        "* First we have attention. This moves information from prior positions in the sequence to the current token. \n",
        "    * We do this for *every* token in parallel using the same parameters. The only difference is that we look backwards only, so later tokens get more room to look back.\n",
        "        * We look backwards so we can predict the next token without cheating.\n",
        "    * Only bit of a transformer that moves information between positions.\n",
        "    * Made up of $n_heads$ heads - each with their own parameters, own attention pattern, and own information how to copy things from source to destination.\n",
        "        * The heads act independently and additively, we just add their outputs together, and back to the stream\n",
        "    * Each head:\n",
        "        * Produces an attention pattern for each destination token, a probability distribution of prior source tokens (including the current one) weighting how much information to copy.\n",
        "            * Do this for each pair of tokens\n",
        "            * Copy information in the same way from each source token.\n",
        "                * What information we copy *does* depend on the source token's *residual stream*. This does not necessarily mean the info of what text token is at the source token's position\n",
        "                * Copy = apply a linear map.\n",
        "        * Fundamental point: Figuring out *which* source tokens to copy info from is a separate circuit from figuring out *how* to copy that information.\n",
        "        * Internal head dimension of $d_{head} = \\frac{d_{model}}{n_{heads}}\n",
        "* MLP Layers - standard neural network. Single hidden layer, linear map -> GELU activation -> linear map\n",
        "    * Exact activation not conceptually important.\n",
        "    * Middle dimension normally $d_{mlp} = 4 \\times d_{model}$\n",
        "        * Exactly why the ratios are what they are isn't super important - doesn't matter that much, people basically cargo-cult GPT did.\n",
        "    * Intuition - once attention has moved relevant information to a single position in the residual stream, MLPs can actually do computation, reasoning, lookup information, etc.\n",
        "        * Big open problem in transformer mechanistic interpretability is what is going on inside MLPs?! See [Toy Model of Superposition Paper](https://transformer-circuits.pub/2022/toy_model/index.html) for more on why this is hard.\n",
        "        * Underlying intuition - linear map -> non-linearity -> linear map is the most powerful force in the universe and can approximate arbitrary functions. Idk man it just works\n",
        "* Finally, we unembed!\n",
        "    * Apply a linear map, going from final residual stream to a vector of logits - this is the output.\n"
      ]
    },
    {
      "cell_type": "markdown",
      "metadata": {
        "id": "b8-R2qQ5o6Po"
      },
      "source": [
        "### Bonus things - less conceptually important but key technical details\n",
        "* LayerNorm\n",
        "    * Simple normalization function applied at the start of each layer - MLP, Attn and Unembed\n",
        "    * Converts each input vector (independently in parallel for each batch x position residual stream vector) to have mean zero and variance 1.\n",
        "    * Then applies an elementwise scaling and translation\n",
        "    * Cool maths tangent: The scale & translate is just a linear map. LayerNorm is only applied immediately before another linear map. Linear compose linear = linear, so we can just fold this into a single effective linear layer and ignore it.\n",
        "        * `fold_ln=True` flag in `from_pretrained` does this for you.\n",
        "    * LayerNorm is super fucking annoying, because the scale part is not linear, so you can't think about different bits of the input independently. But it's *almost* linear - if you're changing a small part of the input it's linear, but if you're changing enough to alter the norm substantially it's not linear :(\n",
        "* Positional Information\n",
        "    * This is totally fucked and messy, sorry!\n",
        "    * **Problem:** Attention operates over all pairs of positions. This means it's symmetric with regards to position - the attention calculation from token 5 to token 1 and token 5 to token 2 are the same by default\n",
        "        * This is dumb because nearby tokens are more relevant.\n",
        "    * There's a lot of dumb hacks for this.\n",
        "    * We'll focus on **learned, absolute positional embeddings**. This means we learn a lookup table mapping the index of the position of each token to a residual stream vector, and add this to the embed.\n",
        "        * Note that we *add* rather than concatenate. This is because the residual stream is shared memory, and likely under significant superposition (the model compresses more features in there than the model has dimensions)\n",
        "        * We basically never concatenate inside a transformer, unless doing weird shit like generating text efficiently."
      ]
    },
    {
      "cell_type": "code",
      "source": [
        "print(reference_gpt2.cfg)"
      ],
      "metadata": {
        "id": "IcyhhLDpO0Tt",
        "outputId": "ba561dd5-54f4-40a8-e8c0-44d4442f0a92",
        "colab": {
          "base_uri": "https://localhost:8080/"
        }
      },
      "execution_count": 61,
      "outputs": [
        {
          "output_type": "stream",
          "name": "stdout",
          "text": [
            "EasyTransformerConfig(n_layers=12, d_model=768, n_ctx=1024, d_head=64, model_name='gpt2-small', n_heads=12, d_mlp=3072, act_fn='gelu_new', d_vocab=50257, eps=1e-05, use_attn_result=False, use_attn_scale=True, use_local_attn=False, model_family='gpt2', checkpoint=None, tokenizer_name='gpt2', window_size=None, attn_types=None, init_mode='gpt2', normalization_type='LN', device='cpu', attention_dir='causal', attn_only=False, seed=42, initializer_range=0.02886751345948129, init_weights=False, scale_attn_by_inverse_layer_idx=False, positional_embedding_type='standard', final_rms=False, d_vocab_out=50257, parallel_attn_mlp=False, rotary_dim=64, dtype=torch.float32)\n"
          ]
        }
      ]
    },
    {
      "cell_type": "code",
      "source": [
        "@dataclass\n",
        "class Config:\n",
        "  eps = 1e-5\n",
        "  debug = True\n",
        "  d_model = 768\n",
        "  d_vocab = 50257\n",
        "  init_range = 0.02\n",
        "  ctx = 1024"
      ],
      "metadata": {
        "id": "tEVZK_TVs5-T"
      },
      "execution_count": 62,
      "outputs": []
    },
    {
      "cell_type": "markdown",
      "source": [
        "## Test Functions"
      ],
      "metadata": {
        "id": "S-2rFujW2BIo"
      }
    },
    {
      "cell_type": "code",
      "source": [
        "def rand_float_test(cls, shape):\n",
        "  cfg = Config()\n",
        "  layer = cls(cfg)\n",
        "  random_input = torch.randn(shape)\n",
        "  print(\"Input shape:\", random_input)\n",
        "  output = layer(random_input)\n",
        "  print(\"Output shape:\", output)\n",
        "  return output\n",
        "\n",
        "def rand_int_test(cls, shape):\n",
        "  cfg = Config()\n",
        "  layer = cls(cfg)\n",
        "  random_input = torch.randint(100, 1000, shape)\n",
        "  print(\"Input shape:\", random_input.shape)\n",
        "  output = layer(random_input)\n",
        "  print(\"Output shape:\", output.shape)\n",
        "  return output\n",
        "\n",
        "def layer_norm_test(tensor):\n",
        "  mean_zero = torch.allclose(tensor.mean(dim=-1), torch.zeros_like(tensor.mean(dim=-1)), atol=1e-3)\n",
        "  std_one = torch.allclose(tensor.std(dim=-1), torch.ones_like(tensor.std(dim=-1)), atol=1e-3)\n",
        "  if not mean_zero:\n",
        "    raise Exception(\"Mean is not ~= zero\")\n",
        "  elif not std_one:\n",
        "    raise Exception(\"Standard deviation is not ~= one\")\n",
        "  else:\n",
        "    print(\"LayerNorm is good!\")\n",
        "  \n",
        "def load_gpt2(cls, gpt2_layer, input_name, cache_dict=cache.cache_dict):\n",
        "  cfg = Config()\n",
        "  layer = cls(cfg)\n",
        "  layer.load_state_dict(gpt2_layer.state_dict())\n",
        "\n",
        "  if isinstance(input_name, str):\n",
        "    reference_input = cache_dict[input_name]\n",
        "  else:\n",
        "    reference_input = input_name\n",
        "  print(\"Input shape:\", reference_input.shape)\n",
        "  output = layer(reference_input)\n",
        "  print(\"Output shape:\", output.shape)\n",
        "  reference_output = gpt2_layer(reference_input)\n",
        "  print(\"Reference output shape:\", reference_output.shape)\n",
        "  comparison = torch.isclose(output, reference_output, atol=1e-4, rtol=1e-3)\n",
        "  print(f\"{comparison.sum()/comparison.numel():.2%} of the values are correct.\")\n",
        "  return output\n"
      ],
      "metadata": {
        "id": "1pJlodqX2AHL"
      },
      "execution_count": 63,
      "outputs": []
    },
    {
      "cell_type": "markdown",
      "source": [
        "## Layer Norm\n",
        "\n"
      ],
      "metadata": {
        "id": "s4DUJ8OOpqQo"
      }
    },
    {
      "cell_type": "code",
      "source": [
        "class MyLayerNorm(nn.Module):\n",
        "  def __init__(self, cfg):\n",
        "    super(MyLayerNorm, self).__init__()\n",
        "    self.cfg = cfg\n",
        "    self.w = nn.Parameter(torch.ones(self.cfg.d_model))\n",
        "    self.b = nn.Parameter(torch.zeros(self.cfg.d_model))\n",
        "  \n",
        "  def forward(self, tensor):\n",
        "    # Calculate the mean and standard deviation of the hidden dimension\n",
        "    hidden_mean = tensor.float().mean(dim=-1, keepdim=True)\n",
        "    hidden_std = tensor.float().std(dim=-1, keepdim=True)\n",
        "\n",
        "    # Apply LayerNorm to the hidden dimension\n",
        "    tensor_normalized = (tensor - hidden_mean) / (hidden_std + self.cfg.eps)\n",
        "    \n",
        "    return self.w * tensor_normalized + self.b"
      ],
      "metadata": {
        "id": "yHPVSsNQphMq"
      },
      "execution_count": 64,
      "outputs": []
    },
    {
      "cell_type": "markdown",
      "source": [
        "### Layer Norm Tests\n"
      ],
      "metadata": {
        "id": "uBkIpgNR6XFj"
      }
    },
    {
      "cell_type": "code",
      "source": [
        "shape = [2, 4, 768]\n",
        "out1 = rand_float_test(MyLayerNorm, shape)\n",
        "layer_norm_test(out1)\n",
        "out2 = rand_int_test(MyLayerNorm, shape)\n",
        "layer_norm_test(out2)\n",
        "out3 = load_gpt2(MyLayerNorm, reference_gpt2.ln_final, 'blocks.11.hook_resid_post')"
      ],
      "metadata": {
        "id": "O2uvaQ7v3sr3",
        "outputId": "cb6e059e-4b60-4fb9-a166-1beb952b1530",
        "colab": {
          "base_uri": "https://localhost:8080/"
        }
      },
      "execution_count": 65,
      "outputs": [
        {
          "output_type": "stream",
          "name": "stdout",
          "text": [
            "Input shape: tensor([[[ 1.9269,  1.4873,  0.9007,  ..., -1.6034, -0.4298,  0.5762],\n",
            "         [ 0.3444, -3.1016, -1.4587,  ...,  0.2200,  0.3249,  1.3190],\n",
            "         [-0.8497, -0.6987, -0.2052,  ..., -0.0298,  1.2715,  1.0849],\n",
            "         [-1.0124, -0.1467, -0.4966,  ..., -2.3891,  0.7178, -1.5831]],\n",
            "\n",
            "        [[-0.9635, -1.0543, -0.6110,  ..., -1.5511, -1.4303,  0.2053],\n",
            "         [-0.1592,  0.0515,  0.6379,  ..., -1.1309,  1.2331,  0.8789],\n",
            "         [ 0.7664,  0.4325, -1.0184,  ..., -1.2797, -0.1962,  0.1990],\n",
            "         [-0.5971, -1.0348,  0.4210,  ...,  0.1757,  0.2550,  0.8070]]])\n",
            "Output shape: tensor([[[ 1.8939,  1.4537,  0.8663,  ..., -1.6415, -0.4662,  0.5412],\n",
            "         [ 0.3751, -3.1031, -1.4449,  ...,  0.2495,  0.3554,  1.3588],\n",
            "         [-0.8692, -0.7139, -0.2061,  ..., -0.0257,  1.3133,  1.1212],\n",
            "         [-1.0152, -0.1615, -0.5066,  ..., -2.3727,  0.6909, -1.5779]],\n",
            "\n",
            "        [[-0.9679, -1.0586, -0.6161,  ..., -1.5543, -1.4338,  0.1985],\n",
            "         [-0.1415,  0.0713,  0.6636,  ..., -1.1230,  1.2646,  0.9069],\n",
            "         [ 0.6804,  0.3701, -0.9776,  ..., -1.2204, -0.2139,  0.1533],\n",
            "         [-0.6426, -1.0823,  0.3804,  ...,  0.1339,  0.2136,  0.7682]]],\n",
            "       grad_fn=<AddBackward0>)\n",
            "LayerNorm is good!\n",
            "Input shape: torch.Size([2, 4, 768])\n",
            "Output shape: torch.Size([2, 4, 768])\n",
            "LayerNorm is good!\n",
            "Input shape: torch.Size([1, 35, 768])\n",
            "Output shape: torch.Size([1, 35, 768])\n",
            "Reference output shape: torch.Size([1, 35, 768])\n",
            "98.94% of the values are correct.\n"
          ]
        }
      ]
    },
    {
      "cell_type": "markdown",
      "source": [
        "## Embedding Layer"
      ],
      "metadata": {
        "id": "OFCEwLAxCIBm"
      }
    },
    {
      "cell_type": "code",
      "source": [
        "class MyEmbeddingLayer(nn.Module):\n",
        "  def __init__(self, cfg):\n",
        "    super(MyEmbeddingLayer, self).__init__()\n",
        "    self.W_E = nn.Parameter(torch.empty(cfg.d_vocab, cfg.d_model))\n",
        "    nn.init.normal_(self.W_E, std=cfg.init_range)\n",
        "\n",
        "  def forward(self, x):\n",
        "    return nn.functional.embedding(x, self.W_E)\n"
      ],
      "metadata": {
        "id": "IZsbRzuZCGCM"
      },
      "execution_count": 66,
      "outputs": []
    },
    {
      "cell_type": "code",
      "source": [
        "rand_int_test(MyEmbeddingLayer, [1, 10])\n",
        "load_gpt2(MyEmbeddingLayer, reference_gpt2.embed, tokens)\n"
      ],
      "metadata": {
        "id": "dUHkQD0wRbcb",
        "outputId": "c619cc79-d654-4e5e-fec5-70f73d7f5f71",
        "colab": {
          "base_uri": "https://localhost:8080/"
        }
      },
      "execution_count": 67,
      "outputs": [
        {
          "output_type": "stream",
          "name": "stdout",
          "text": [
            "Input shape: torch.Size([1, 10])\n",
            "Output shape: torch.Size([1, 10, 768])\n",
            "Input shape: torch.Size([1, 35])\n",
            "Output shape: torch.Size([1, 35, 768])\n",
            "Reference output shape: torch.Size([1, 35, 768])\n",
            "100.00% of the values are correct.\n"
          ]
        },
        {
          "output_type": "execute_result",
          "data": {
            "text/plain": [
              "tensor([[[ 0.0514, -0.0277,  0.0499,  ...,  0.0070,  0.1552,  0.1207],\n",
              "         [ 0.1474, -0.0959,  0.1430,  ...,  0.1030, -0.0625, -0.1131],\n",
              "         [ 0.1596, -0.1249,  0.1148,  ...,  0.2558,  0.0196,  0.0145],\n",
              "         ...,\n",
              "         [-0.0393,  0.0050,  0.0421,  ..., -0.0477,  0.0670, -0.0471],\n",
              "         [-0.1488,  0.1519,  0.0056,  ..., -0.3107,  0.2073,  0.0377],\n",
              "         [-0.1101, -0.0393,  0.0331,  ..., -0.1364,  0.0151,  0.0453]]],\n",
              "       grad_fn=<EmbeddingBackward0>)"
            ]
          },
          "metadata": {},
          "execution_count": 67
        }
      ]
    },
    {
      "cell_type": "markdown",
      "source": [
        "## Positional Embedding"
      ],
      "metadata": {
        "id": "wNSUCc6SWQam"
      }
    },
    {
      "cell_type": "code",
      "source": [
        "for key, val in cache.cache_dict.items():\n",
        "  print(key, val.shape)"
      ],
      "metadata": {
        "id": "mu8xezQtacuw",
        "outputId": "134d3bd5-d2fa-44ad-92c5-b92137d5a8a7",
        "colab": {
          "base_uri": "https://localhost:8080/"
        }
      },
      "execution_count": 68,
      "outputs": [
        {
          "output_type": "stream",
          "name": "stdout",
          "text": [
            "hook_embed torch.Size([1, 35, 768])\n",
            "hook_pos_embed torch.Size([1, 35, 768])\n",
            "blocks.0.hook_resid_pre torch.Size([1, 35, 768])\n",
            "blocks.0.ln1.hook_scale torch.Size([1, 35, 1])\n",
            "blocks.0.ln1.hook_normalized torch.Size([1, 35, 768])\n",
            "blocks.0.attn.hook_q torch.Size([1, 35, 12, 64])\n",
            "blocks.0.attn.hook_k torch.Size([1, 35, 12, 64])\n",
            "blocks.0.attn.hook_v torch.Size([1, 35, 12, 64])\n",
            "blocks.0.attn.hook_attn_scores torch.Size([1, 12, 35, 35])\n",
            "blocks.0.attn.hook_attn torch.Size([1, 12, 35, 35])\n",
            "blocks.0.attn.hook_z torch.Size([1, 35, 12, 64])\n",
            "blocks.0.hook_attn_out torch.Size([1, 35, 768])\n",
            "blocks.0.hook_resid_mid torch.Size([1, 35, 768])\n",
            "blocks.0.ln2.hook_scale torch.Size([1, 35, 1])\n",
            "blocks.0.ln2.hook_normalized torch.Size([1, 35, 768])\n",
            "blocks.0.mlp.hook_pre torch.Size([1, 35, 3072])\n",
            "blocks.0.mlp.hook_post torch.Size([1, 35, 3072])\n",
            "blocks.0.hook_mlp_out torch.Size([1, 35, 768])\n",
            "blocks.0.hook_resid_post torch.Size([1, 35, 768])\n",
            "blocks.1.hook_resid_pre torch.Size([1, 35, 768])\n",
            "blocks.1.ln1.hook_scale torch.Size([1, 35, 1])\n",
            "blocks.1.ln1.hook_normalized torch.Size([1, 35, 768])\n",
            "blocks.1.attn.hook_q torch.Size([1, 35, 12, 64])\n",
            "blocks.1.attn.hook_k torch.Size([1, 35, 12, 64])\n",
            "blocks.1.attn.hook_v torch.Size([1, 35, 12, 64])\n",
            "blocks.1.attn.hook_attn_scores torch.Size([1, 12, 35, 35])\n",
            "blocks.1.attn.hook_attn torch.Size([1, 12, 35, 35])\n",
            "blocks.1.attn.hook_z torch.Size([1, 35, 12, 64])\n",
            "blocks.1.hook_attn_out torch.Size([1, 35, 768])\n",
            "blocks.1.hook_resid_mid torch.Size([1, 35, 768])\n",
            "blocks.1.ln2.hook_scale torch.Size([1, 35, 1])\n",
            "blocks.1.ln2.hook_normalized torch.Size([1, 35, 768])\n",
            "blocks.1.mlp.hook_pre torch.Size([1, 35, 3072])\n",
            "blocks.1.mlp.hook_post torch.Size([1, 35, 3072])\n",
            "blocks.1.hook_mlp_out torch.Size([1, 35, 768])\n",
            "blocks.1.hook_resid_post torch.Size([1, 35, 768])\n",
            "blocks.2.hook_resid_pre torch.Size([1, 35, 768])\n",
            "blocks.2.ln1.hook_scale torch.Size([1, 35, 1])\n",
            "blocks.2.ln1.hook_normalized torch.Size([1, 35, 768])\n",
            "blocks.2.attn.hook_q torch.Size([1, 35, 12, 64])\n",
            "blocks.2.attn.hook_k torch.Size([1, 35, 12, 64])\n",
            "blocks.2.attn.hook_v torch.Size([1, 35, 12, 64])\n",
            "blocks.2.attn.hook_attn_scores torch.Size([1, 12, 35, 35])\n",
            "blocks.2.attn.hook_attn torch.Size([1, 12, 35, 35])\n",
            "blocks.2.attn.hook_z torch.Size([1, 35, 12, 64])\n",
            "blocks.2.hook_attn_out torch.Size([1, 35, 768])\n",
            "blocks.2.hook_resid_mid torch.Size([1, 35, 768])\n",
            "blocks.2.ln2.hook_scale torch.Size([1, 35, 1])\n",
            "blocks.2.ln2.hook_normalized torch.Size([1, 35, 768])\n",
            "blocks.2.mlp.hook_pre torch.Size([1, 35, 3072])\n",
            "blocks.2.mlp.hook_post torch.Size([1, 35, 3072])\n",
            "blocks.2.hook_mlp_out torch.Size([1, 35, 768])\n",
            "blocks.2.hook_resid_post torch.Size([1, 35, 768])\n",
            "blocks.3.hook_resid_pre torch.Size([1, 35, 768])\n",
            "blocks.3.ln1.hook_scale torch.Size([1, 35, 1])\n",
            "blocks.3.ln1.hook_normalized torch.Size([1, 35, 768])\n",
            "blocks.3.attn.hook_q torch.Size([1, 35, 12, 64])\n",
            "blocks.3.attn.hook_k torch.Size([1, 35, 12, 64])\n",
            "blocks.3.attn.hook_v torch.Size([1, 35, 12, 64])\n",
            "blocks.3.attn.hook_attn_scores torch.Size([1, 12, 35, 35])\n",
            "blocks.3.attn.hook_attn torch.Size([1, 12, 35, 35])\n",
            "blocks.3.attn.hook_z torch.Size([1, 35, 12, 64])\n",
            "blocks.3.hook_attn_out torch.Size([1, 35, 768])\n",
            "blocks.3.hook_resid_mid torch.Size([1, 35, 768])\n",
            "blocks.3.ln2.hook_scale torch.Size([1, 35, 1])\n",
            "blocks.3.ln2.hook_normalized torch.Size([1, 35, 768])\n",
            "blocks.3.mlp.hook_pre torch.Size([1, 35, 3072])\n",
            "blocks.3.mlp.hook_post torch.Size([1, 35, 3072])\n",
            "blocks.3.hook_mlp_out torch.Size([1, 35, 768])\n",
            "blocks.3.hook_resid_post torch.Size([1, 35, 768])\n",
            "blocks.4.hook_resid_pre torch.Size([1, 35, 768])\n",
            "blocks.4.ln1.hook_scale torch.Size([1, 35, 1])\n",
            "blocks.4.ln1.hook_normalized torch.Size([1, 35, 768])\n",
            "blocks.4.attn.hook_q torch.Size([1, 35, 12, 64])\n",
            "blocks.4.attn.hook_k torch.Size([1, 35, 12, 64])\n",
            "blocks.4.attn.hook_v torch.Size([1, 35, 12, 64])\n",
            "blocks.4.attn.hook_attn_scores torch.Size([1, 12, 35, 35])\n",
            "blocks.4.attn.hook_attn torch.Size([1, 12, 35, 35])\n",
            "blocks.4.attn.hook_z torch.Size([1, 35, 12, 64])\n",
            "blocks.4.hook_attn_out torch.Size([1, 35, 768])\n",
            "blocks.4.hook_resid_mid torch.Size([1, 35, 768])\n",
            "blocks.4.ln2.hook_scale torch.Size([1, 35, 1])\n",
            "blocks.4.ln2.hook_normalized torch.Size([1, 35, 768])\n",
            "blocks.4.mlp.hook_pre torch.Size([1, 35, 3072])\n",
            "blocks.4.mlp.hook_post torch.Size([1, 35, 3072])\n",
            "blocks.4.hook_mlp_out torch.Size([1, 35, 768])\n",
            "blocks.4.hook_resid_post torch.Size([1, 35, 768])\n",
            "blocks.5.hook_resid_pre torch.Size([1, 35, 768])\n",
            "blocks.5.ln1.hook_scale torch.Size([1, 35, 1])\n",
            "blocks.5.ln1.hook_normalized torch.Size([1, 35, 768])\n",
            "blocks.5.attn.hook_q torch.Size([1, 35, 12, 64])\n",
            "blocks.5.attn.hook_k torch.Size([1, 35, 12, 64])\n",
            "blocks.5.attn.hook_v torch.Size([1, 35, 12, 64])\n",
            "blocks.5.attn.hook_attn_scores torch.Size([1, 12, 35, 35])\n",
            "blocks.5.attn.hook_attn torch.Size([1, 12, 35, 35])\n",
            "blocks.5.attn.hook_z torch.Size([1, 35, 12, 64])\n",
            "blocks.5.hook_attn_out torch.Size([1, 35, 768])\n",
            "blocks.5.hook_resid_mid torch.Size([1, 35, 768])\n",
            "blocks.5.ln2.hook_scale torch.Size([1, 35, 1])\n",
            "blocks.5.ln2.hook_normalized torch.Size([1, 35, 768])\n",
            "blocks.5.mlp.hook_pre torch.Size([1, 35, 3072])\n",
            "blocks.5.mlp.hook_post torch.Size([1, 35, 3072])\n",
            "blocks.5.hook_mlp_out torch.Size([1, 35, 768])\n",
            "blocks.5.hook_resid_post torch.Size([1, 35, 768])\n",
            "blocks.6.hook_resid_pre torch.Size([1, 35, 768])\n",
            "blocks.6.ln1.hook_scale torch.Size([1, 35, 1])\n",
            "blocks.6.ln1.hook_normalized torch.Size([1, 35, 768])\n",
            "blocks.6.attn.hook_q torch.Size([1, 35, 12, 64])\n",
            "blocks.6.attn.hook_k torch.Size([1, 35, 12, 64])\n",
            "blocks.6.attn.hook_v torch.Size([1, 35, 12, 64])\n",
            "blocks.6.attn.hook_attn_scores torch.Size([1, 12, 35, 35])\n",
            "blocks.6.attn.hook_attn torch.Size([1, 12, 35, 35])\n",
            "blocks.6.attn.hook_z torch.Size([1, 35, 12, 64])\n",
            "blocks.6.hook_attn_out torch.Size([1, 35, 768])\n",
            "blocks.6.hook_resid_mid torch.Size([1, 35, 768])\n",
            "blocks.6.ln2.hook_scale torch.Size([1, 35, 1])\n",
            "blocks.6.ln2.hook_normalized torch.Size([1, 35, 768])\n",
            "blocks.6.mlp.hook_pre torch.Size([1, 35, 3072])\n",
            "blocks.6.mlp.hook_post torch.Size([1, 35, 3072])\n",
            "blocks.6.hook_mlp_out torch.Size([1, 35, 768])\n",
            "blocks.6.hook_resid_post torch.Size([1, 35, 768])\n",
            "blocks.7.hook_resid_pre torch.Size([1, 35, 768])\n",
            "blocks.7.ln1.hook_scale torch.Size([1, 35, 1])\n",
            "blocks.7.ln1.hook_normalized torch.Size([1, 35, 768])\n",
            "blocks.7.attn.hook_q torch.Size([1, 35, 12, 64])\n",
            "blocks.7.attn.hook_k torch.Size([1, 35, 12, 64])\n",
            "blocks.7.attn.hook_v torch.Size([1, 35, 12, 64])\n",
            "blocks.7.attn.hook_attn_scores torch.Size([1, 12, 35, 35])\n",
            "blocks.7.attn.hook_attn torch.Size([1, 12, 35, 35])\n",
            "blocks.7.attn.hook_z torch.Size([1, 35, 12, 64])\n",
            "blocks.7.hook_attn_out torch.Size([1, 35, 768])\n",
            "blocks.7.hook_resid_mid torch.Size([1, 35, 768])\n",
            "blocks.7.ln2.hook_scale torch.Size([1, 35, 1])\n",
            "blocks.7.ln2.hook_normalized torch.Size([1, 35, 768])\n",
            "blocks.7.mlp.hook_pre torch.Size([1, 35, 3072])\n",
            "blocks.7.mlp.hook_post torch.Size([1, 35, 3072])\n",
            "blocks.7.hook_mlp_out torch.Size([1, 35, 768])\n",
            "blocks.7.hook_resid_post torch.Size([1, 35, 768])\n",
            "blocks.8.hook_resid_pre torch.Size([1, 35, 768])\n",
            "blocks.8.ln1.hook_scale torch.Size([1, 35, 1])\n",
            "blocks.8.ln1.hook_normalized torch.Size([1, 35, 768])\n",
            "blocks.8.attn.hook_q torch.Size([1, 35, 12, 64])\n",
            "blocks.8.attn.hook_k torch.Size([1, 35, 12, 64])\n",
            "blocks.8.attn.hook_v torch.Size([1, 35, 12, 64])\n",
            "blocks.8.attn.hook_attn_scores torch.Size([1, 12, 35, 35])\n",
            "blocks.8.attn.hook_attn torch.Size([1, 12, 35, 35])\n",
            "blocks.8.attn.hook_z torch.Size([1, 35, 12, 64])\n",
            "blocks.8.hook_attn_out torch.Size([1, 35, 768])\n",
            "blocks.8.hook_resid_mid torch.Size([1, 35, 768])\n",
            "blocks.8.ln2.hook_scale torch.Size([1, 35, 1])\n",
            "blocks.8.ln2.hook_normalized torch.Size([1, 35, 768])\n",
            "blocks.8.mlp.hook_pre torch.Size([1, 35, 3072])\n",
            "blocks.8.mlp.hook_post torch.Size([1, 35, 3072])\n",
            "blocks.8.hook_mlp_out torch.Size([1, 35, 768])\n",
            "blocks.8.hook_resid_post torch.Size([1, 35, 768])\n",
            "blocks.9.hook_resid_pre torch.Size([1, 35, 768])\n",
            "blocks.9.ln1.hook_scale torch.Size([1, 35, 1])\n",
            "blocks.9.ln1.hook_normalized torch.Size([1, 35, 768])\n",
            "blocks.9.attn.hook_q torch.Size([1, 35, 12, 64])\n",
            "blocks.9.attn.hook_k torch.Size([1, 35, 12, 64])\n",
            "blocks.9.attn.hook_v torch.Size([1, 35, 12, 64])\n",
            "blocks.9.attn.hook_attn_scores torch.Size([1, 12, 35, 35])\n",
            "blocks.9.attn.hook_attn torch.Size([1, 12, 35, 35])\n",
            "blocks.9.attn.hook_z torch.Size([1, 35, 12, 64])\n",
            "blocks.9.hook_attn_out torch.Size([1, 35, 768])\n",
            "blocks.9.hook_resid_mid torch.Size([1, 35, 768])\n",
            "blocks.9.ln2.hook_scale torch.Size([1, 35, 1])\n",
            "blocks.9.ln2.hook_normalized torch.Size([1, 35, 768])\n",
            "blocks.9.mlp.hook_pre torch.Size([1, 35, 3072])\n",
            "blocks.9.mlp.hook_post torch.Size([1, 35, 3072])\n",
            "blocks.9.hook_mlp_out torch.Size([1, 35, 768])\n",
            "blocks.9.hook_resid_post torch.Size([1, 35, 768])\n",
            "blocks.10.hook_resid_pre torch.Size([1, 35, 768])\n",
            "blocks.10.ln1.hook_scale torch.Size([1, 35, 1])\n",
            "blocks.10.ln1.hook_normalized torch.Size([1, 35, 768])\n",
            "blocks.10.attn.hook_q torch.Size([1, 35, 12, 64])\n",
            "blocks.10.attn.hook_k torch.Size([1, 35, 12, 64])\n",
            "blocks.10.attn.hook_v torch.Size([1, 35, 12, 64])\n",
            "blocks.10.attn.hook_attn_scores torch.Size([1, 12, 35, 35])\n",
            "blocks.10.attn.hook_attn torch.Size([1, 12, 35, 35])\n",
            "blocks.10.attn.hook_z torch.Size([1, 35, 12, 64])\n",
            "blocks.10.hook_attn_out torch.Size([1, 35, 768])\n",
            "blocks.10.hook_resid_mid torch.Size([1, 35, 768])\n",
            "blocks.10.ln2.hook_scale torch.Size([1, 35, 1])\n",
            "blocks.10.ln2.hook_normalized torch.Size([1, 35, 768])\n",
            "blocks.10.mlp.hook_pre torch.Size([1, 35, 3072])\n",
            "blocks.10.mlp.hook_post torch.Size([1, 35, 3072])\n",
            "blocks.10.hook_mlp_out torch.Size([1, 35, 768])\n",
            "blocks.10.hook_resid_post torch.Size([1, 35, 768])\n",
            "blocks.11.hook_resid_pre torch.Size([1, 35, 768])\n",
            "blocks.11.ln1.hook_scale torch.Size([1, 35, 1])\n",
            "blocks.11.ln1.hook_normalized torch.Size([1, 35, 768])\n",
            "blocks.11.attn.hook_q torch.Size([1, 35, 12, 64])\n",
            "blocks.11.attn.hook_k torch.Size([1, 35, 12, 64])\n",
            "blocks.11.attn.hook_v torch.Size([1, 35, 12, 64])\n",
            "blocks.11.attn.hook_attn_scores torch.Size([1, 12, 35, 35])\n",
            "blocks.11.attn.hook_attn torch.Size([1, 12, 35, 35])\n",
            "blocks.11.attn.hook_z torch.Size([1, 35, 12, 64])\n",
            "blocks.11.hook_attn_out torch.Size([1, 35, 768])\n",
            "blocks.11.hook_resid_mid torch.Size([1, 35, 768])\n",
            "blocks.11.ln2.hook_scale torch.Size([1, 35, 1])\n",
            "blocks.11.ln2.hook_normalized torch.Size([1, 35, 768])\n",
            "blocks.11.mlp.hook_pre torch.Size([1, 35, 3072])\n",
            "blocks.11.mlp.hook_post torch.Size([1, 35, 3072])\n",
            "blocks.11.hook_mlp_out torch.Size([1, 35, 768])\n",
            "blocks.11.hook_resid_post torch.Size([1, 35, 768])\n",
            "ln_final.hook_scale torch.Size([1, 35, 1])\n",
            "ln_final.hook_normalized torch.Size([1, 35, 768])\n"
          ]
        }
      ]
    },
    {
      "cell_type": "code",
      "source": [
        "class MyPositionalEmbedding(nn.Module):\n",
        "  def __init__(self, cfg):\n",
        "    super(MyPositionalEmbedding, self).__init__()\n",
        "    self.cfg = cfg\n",
        "    self.W_pos = nn.Parameter(torch.empty(cfg.ctx, cfg.d_model))\n",
        "    nn.init.normal_(self.W_pos, std=cfg.init_range)\n",
        "\n",
        "  def forward(self, x):\n",
        "    pos_subset = self.W_pos[:x.size(1), :]\n",
        "    pos_broadcasted = einops.repeat(pos_subset, 'a b -> x a b', x=x.size(0))\n",
        "    return pos_broadcasted\n"
      ],
      "metadata": {
        "id": "VMQjkRx_QZar"
      },
      "execution_count": 80,
      "outputs": []
    },
    {
      "cell_type": "markdown",
      "source": [
        "### Positional Embedding Tests"
      ],
      "metadata": {
        "id": "ECzfKaxAcHtr"
      }
    },
    {
      "cell_type": "code",
      "source": [
        "rand_int_test(MyPositionalEmbedding, [2, 10])\n",
        "load_gpt2(MyPositionalEmbedding, reference_gpt2.pos_embed, tokens)"
      ],
      "metadata": {
        "id": "NgYXZ6HnVDOs",
        "outputId": "dc151a77-d0cc-4129-9d63-6bb0491dcf6f",
        "colab": {
          "base_uri": "https://localhost:8080/"
        }
      },
      "execution_count": 81,
      "outputs": [
        {
          "output_type": "stream",
          "name": "stdout",
          "text": [
            "Input shape: torch.Size([2, 10])\n",
            "Output shape: torch.Size([2, 10, 768])\n",
            "Input shape: torch.Size([1, 35])\n",
            "Output shape: torch.Size([1, 35, 768])\n",
            "Reference output shape: torch.Size([1, 35, 768])\n",
            "100.00% of the values are correct.\n"
          ]
        },
        {
          "output_type": "execute_result",
          "data": {
            "text/plain": [
              "tensor([[[-1.8821e-02, -1.9742e-01,  4.0267e-03,  ..., -4.3044e-02,\n",
              "           2.8267e-02,  5.4490e-02],\n",
              "         [ 2.3959e-02, -5.3792e-02, -9.4879e-02,  ...,  3.4170e-02,\n",
              "           1.0172e-02, -1.5573e-04],\n",
              "         [ 4.2161e-03, -8.4764e-02,  5.4515e-02,  ...,  1.9745e-02,\n",
              "           1.9325e-02, -2.1424e-02],\n",
              "         ...,\n",
              "         [ 4.6277e-04,  2.3037e-02,  4.1227e-02,  ..., -1.9287e-03,\n",
              "          -2.3037e-03, -4.3189e-03],\n",
              "         [-2.7136e-03,  2.1724e-02,  3.9675e-02,  ...,  4.2048e-04,\n",
              "          -4.8160e-03, -9.2252e-04],\n",
              "         [ 6.6815e-03,  2.0595e-02,  3.6596e-02,  ..., -9.5090e-04,\n",
              "          -3.2512e-03, -9.6509e-04]]], grad_fn=<ReshapeAliasBackward0>)"
            ]
          },
          "metadata": {},
          "execution_count": 81
        }
      ]
    },
    {
      "cell_type": "markdown",
      "source": [
        "## Attention\n",
        "\n"
      ],
      "metadata": {
        "id": "hvLDsIdos1ZJ"
      }
    },
    {
      "cell_type": "code",
      "source": [],
      "metadata": {
        "id": "YYI36VMFs1FZ"
      },
      "execution_count": null,
      "outputs": []
    }
  ],
  "metadata": {
    "kernelspec": {
      "display_name": "Python 3.7.13 ('base')",
      "language": "python",
      "name": "python3"
    },
    "language_info": {
      "codemirror_mode": {
        "name": "ipython",
        "version": 3
      },
      "file_extension": ".py",
      "mimetype": "text/x-python",
      "name": "python",
      "nbconvert_exporter": "python",
      "pygments_lexer": "ipython3",
      "version": "3.7.13"
    },
    "orig_nbformat": 4,
    "vscode": {
      "interpreter": {
        "hash": "d4d1e4263499bec80672ea0156c357c1ee493ec2b1c70f0acce89fc37c4a6abe"
      }
    },
    "colab": {
      "provenance": []
    }
  },
  "nbformat": 4,
  "nbformat_minor": 0
}